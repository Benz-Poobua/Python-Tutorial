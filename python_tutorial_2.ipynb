{
 "cells": [
  {
   "cell_type": "markdown",
   "metadata": {},
   "source": [
    "## Python Tutorial 2"
   ]
  },
  {
   "cell_type": "markdown",
   "metadata": {},
   "source": [
    "### 1. Introduction"
   ]
  },
  {
   "cell_type": "markdown",
   "metadata": {},
   "source": [
    "`! code hello.py`"
   ]
  },
  {
   "cell_type": "markdown",
   "metadata": {},
   "source": [
    "```Python\n",
    "name = input(\"What's your name? \")\n",
    "\n",
    "print('hello, ' + name)\n",
    "\n",
    "print(f'hello, {name}')\n",
    "```"
   ]
  },
  {
   "cell_type": "markdown",
   "metadata": {},
   "source": [
    "`! python hello.py`"
   ]
  },
  {
   "cell_type": "markdown",
   "metadata": {},
   "source": [
    "```Python\n",
    "print('hello,', name, sep='???')\n",
    "\n",
    "print(\"hello, \\\"friend\\\"\")\n",
    "```"
   ]
  },
  {
   "cell_type": "markdown",
   "metadata": {},
   "source": [
    "remove whitespace from str"
   ]
  },
  {
   "cell_type": "markdown",
   "metadata": {},
   "source": [
    "```Python\n",
    "name = name.strip()\n",
    "name = name.capitalize()\n",
    "name = name.title()\n",
    "\n",
    "name = name.strip().title()\n",
    "\n",
    "name = input(\"What's your name? \").strip().title()\n",
    "\n",
    "# split user's name into first and last name\n",
    "first, last = name.split(\" \")\n",
    "print(f'hello, {first}')\n",
    "```"
   ]
  },
  {
   "cell_type": "markdown",
   "metadata": {},
   "source": [
    "### 2. Interactive mode"
   ]
  },
  {
   "cell_type": "markdown",
   "metadata": {},
   "source": [
    "```python\n",
    "! python\n",
    "\n",
    ">>>\n",
    "\n",
    "! code calculator.py\n",
    "\n",
    "! python calculator.py\n",
    "```"
   ]
  },
  {
   "cell_type": "markdown",
   "metadata": {},
   "source": [
    "### 3. Scope\n",
    "Variables only exist in the function."
   ]
  },
  {
   "cell_type": "markdown",
   "metadata": {},
   "source": [
    "```python\n",
    "def main():\n",
    "    name = input(\"What's your name? \")\n",
    "    hello()\n",
    "\n",
    "def hello():\n",
    "    print('hello,', name)\n",
    "\n",
    "main()"
   ]
  },
  {
   "cell_type": "markdown",
   "metadata": {},
   "source": [
    "### 4. If"
   ]
  },
  {
   "cell_type": "markdown",
   "metadata": {},
   "source": [
    "```python\n",
    "\n",
    "! code compare.py\n",
    "\n",
    "x = int(input(\"What's x? \"))\n",
    "y = int(input(\"What's y? \"))\n",
    "\n",
    "if x < y:\n",
    "    print(\"x is less than y\")\n",
    "elif x > y:\n",
    "    print(\"x is more than y\")\n",
    "else:\n",
    "    print(\"x is equal to y\")"
   ]
  },
  {
   "cell_type": "markdown",
   "metadata": {},
   "source": [
    "```python\n",
    "# if x < y or x > y:\n",
    "if x != y:\n",
    "    print(\"x is not equal to y\")\n",
    "else:\n",
    "    print(\"x is equal to y\")"
   ]
  },
  {
   "cell_type": "markdown",
   "metadata": {},
   "source": [
    "### 5. Functions"
   ]
  },
  {
   "cell_type": "markdown",
   "metadata": {},
   "source": [
    "```python\n",
    "def main():\n",
    "    x = int(input(\"what's x? \"))\n",
    "    if is_even(x):\n",
    "        print('even')\n",
    "    else:\n",
    "        print('odd')\n",
    "\n",
    "def is_even(n):\n",
    "    # return True if n % 2 == 0 else False\n",
    "    return n % 2 == 0\n",
    "main()\n",
    "```"
   ]
  },
  {
   "cell_type": "markdown",
   "metadata": {},
   "source": [
    "### 6. Match"
   ]
  },
  {
   "cell_type": "markdown",
   "metadata": {},
   "source": [
    "```python\n",
    "name = input(\"What's your name? \")\n",
    "match name:\n",
    "    case 'Harry' | 'Hermione' | 'Ron':\n",
    "        print('Gryffindor')\n",
    "    case 'Draco':\n",
    "        print('Slyrherin')\n",
    "    case _:\n",
    "        print('who?')\n",
    "```"
   ]
  },
  {
   "cell_type": "markdown",
   "metadata": {},
   "source": [
    "### 7. Loop"
   ]
  },
  {
   "cell_type": "markdown",
   "metadata": {},
   "source": [
    "```python\n",
    "i = 0\n",
    "while i < 3:\n",
    "    print('eiei')\n",
    "   # i = i + 1\n",
    "    i += 1\n",
    "```"
   ]
  },
  {
   "cell_type": "markdown",
   "metadata": {},
   "source": [
    "```python\n",
    "# for i in [0, 1, 2]:\n",
    "for _ in range(3):\n",
    "    print('eiei')\n",
    "```"
   ]
  },
  {
   "cell_type": "markdown",
   "metadata": {},
   "source": [
    "```python\n",
    "print('eiei\\n * 3, end=\"\")\n",
    "```"
   ]
  },
  {
   "cell_type": "markdown",
   "metadata": {},
   "source": [
    "```python\n",
    "while True:\n",
    "    n = int(input(\"what's n? \"))\n",
    "    if n > 0:\n",
    "        break\n",
    "for _ in range(n):\n",
    "    print('eiei')\n",
    "```"
   ]
  },
  {
   "cell_type": "markdown",
   "metadata": {},
   "source": [
    "```python \n",
    "\n",
    "def main():\n",
    "    number = get_number()\n",
    "    eiei(number)\n",
    "\n",
    "def get_number():\n",
    "    while True:\n",
    "        n = int(input(\"What's n? \"))\n",
    "        if n > 0:\n",
    "            break\n",
    "    return n\n",
    "\n",
    "def eiei(n):\n",
    "    for _ in range(n):\n",
    "        print('eiei')\n",
    "\n",
    "main()\n",
    "```"
   ]
  },
  {
   "cell_type": "markdown",
   "metadata": {},
   "source": [
    "### 8. List"
   ]
  },
  {
   "cell_type": "markdown",
   "metadata": {},
   "source": [
    "```python\n",
    "students = ['Hermione', 'Harry', 'Ron']\n",
    "for i in range(len(students)):\n",
    "    print(i, students[i])\n",
    "```"
   ]
  },
  {
   "cell_type": "markdown",
   "metadata": {},
   "source": [
    "### 9. Dictionary\n",
    "\n",
    "str as index\n",
    "\n",
    "key:value"
   ]
  },
  {
   "cell_type": "markdown",
   "metadata": {},
   "source": [
    "```python\n",
    "students = {\n",
    "    'Hermione': 'Gryffindor',\n",
    "    'Harry': 'Gryffindor',\n",
    "    'Ron': 'Gryffindor',\n",
    "    'Draco': 'Slytherin'\n",
    "}\n",
    "for student in students:\n",
    "    print(student) # print keys\n",
    "    print(student, students[student], sep \", \")\n",
    "\n",
    "```"
   ]
  },
  {
   "cell_type": "markdown",
   "metadata": {},
   "source": [
    "```python\n",
    "students = [\n",
    "    {'name':'Hermione', 'house': 'Gryffindor', 'patronus': 'Otter'},\n",
    "    {'name':'Harry', 'house': 'Gryffindor', 'patronus': 'Stag'},\n",
    "    {'name':'Ron', 'house': 'Gryffindor', 'patronus': 'Jack Russell terrier'},\n",
    "    {'name':'Draco', 'house': 'Slytherin', 'patronus': None},\n",
    "]\n",
    "```"
   ]
  },
  {
   "cell_type": "markdown",
   "metadata": {},
   "source": [
    "### 9. Handling Errors"
   ]
  },
  {
   "cell_type": "markdown",
   "metadata": {},
   "source": [
    "```python \n",
    "try:\n",
    "    x = int(input(\"what's x? \"))\n",
    "    print(f\"x is {x}\")\n",
    "except ValueError:\n",
    "    print(\"x is not an integer\")\n",
    "```"
   ]
  },
  {
   "cell_type": "markdown",
   "metadata": {},
   "source": [
    "```python\n",
    "# NameError\n",
    "try:\n",
    "    x = int(input(\"what's x? \"))\n",
    "except ValueError:\n",
    "    print(\"x is not an integer\")\n",
    "print(f\"x is {x}\")\n",
    "```"
   ]
  },
  {
   "cell_type": "markdown",
   "metadata": {},
   "source": [
    "```python\n",
    "try:\n",
    "    x = int(input(\"what's x? \"))\n",
    "except ValueError:\n",
    "    print(\"x is not an integer\")\n",
    "else:\n",
    "    print(f\"x is {x}\")\n",
    "```"
   ]
  },
  {
   "cell_type": "markdown",
   "metadata": {},
   "source": [
    "```python\n",
    "while True:\n",
    "    try:\n",
    "        x = int(input(\"what's x? \"))\n",
    "    except ValueError:\n",
    "        print(\"x is not an integer\")\n",
    "    else:\n",
    "        break\n",
    "print(f\"x is {x}\")\n",
    "```"
   ]
  },
  {
   "cell_type": "markdown",
   "metadata": {},
   "source": []
  }
 ],
 "metadata": {
  "kernelspec": {
   "display_name": "base",
   "language": "python",
   "name": "python3"
  },
  "language_info": {
   "name": "python",
   "version": "3.12.2"
  }
 },
 "nbformat": 4,
 "nbformat_minor": 2
}
